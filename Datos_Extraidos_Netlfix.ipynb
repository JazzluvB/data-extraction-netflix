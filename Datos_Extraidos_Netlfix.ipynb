{
 "cells": [
  {
   "cell_type": "code",
   "execution_count": 1,
   "metadata": {},
   "outputs": [
    {
     "name": "stdout",
     "output_type": "stream",
     "text": [
      "Haciendo la solicitud a la página...\n",
      "Solicitud exitosa.\n",
      "Buscando la tabla en la página...\n",
      "Tabla encontrada.\n",
      "Extrayendo datos de la tabla...\n",
      "Datos extraídos:\n",
      "            Date    Open    High     Low   Close Adj Close       Volume\n",
      "0   Jun 01, 2021  504.01  536.13  482.14  528.21    528.21   78,560,600\n",
      "1   May 01, 2021  512.65  518.95  478.54  502.81    502.81   66,927,600\n",
      "2   Apr 01, 2021  529.93  563.56  499.00  513.47    513.47  111,573,300\n",
      "3   Mar 01, 2021  545.57  556.99  492.85  521.66    521.66   90,183,900\n",
      "4   Feb 01, 2021  536.79  566.65  518.28  538.85    538.85   61,902,300\n",
      "..           ...     ...     ...     ...     ...       ...          ...\n",
      "65  Jan 01, 2016  109.00  122.18   90.11   91.84     91.84  488,193,200\n",
      "66  Dec 01, 2015  124.47  133.27  113.85  114.38    114.38  319,939,200\n",
      "67  Nov 01, 2015  109.20  126.60  101.86  123.33    123.33  320,321,800\n",
      "68  Oct 01, 2015  102.91  115.83   96.26  108.38    108.38  446,204,400\n",
      "69  Sep 01, 2015  109.35  111.24   93.55  103.26    103.26  497,401,200\n",
      "\n",
      "[70 rows x 7 columns]\n"
     ]
    }
   ],
   "source": [
    "import requests\n",
    "from bs4 import BeautifulSoup\n",
    "import pandas as pd\n",
    "\n",
    "# URL de la página web\n",
    "url = \"https://cf-courses-data.s3.us.cloud-object-storage.appdomain.cloud/IBMDeveloperSkillsNetwork-PY0220EN-SkillsNetwork/labs/project/netflix_data_webpage.html\"\n",
    "\n",
    "# Hacer la solicitud a la página\n",
    "try:\n",
    "    print(\"Haciendo la solicitud a la página...\")\n",
    "    response = requests.get(url)\n",
    "    response.raise_for_status()  # Verifica si la solicitud fue exitosa\n",
    "    print(\"Solicitud exitosa.\")\n",
    "except requests.exceptions.RequestException as e:\n",
    "    print(f\"Error al hacer la solicitud: {e}\")\n",
    "    exit()\n",
    "\n",
    "# Parsear el contenido HTML\n",
    "soup = BeautifulSoup(response.content, 'html.parser')\n",
    "\n",
    "# Encontrar la tabla\n",
    "print(\"Buscando la tabla en la página...\")\n",
    "table = soup.find('table')\n",
    "if table is None:\n",
    "    print(\"No se encontró la tabla.\")\n",
    "    exit()\n",
    "else:\n",
    "    print(\"Tabla encontrada.\")\n",
    "\n",
    "# Inicializar listas para almacenar datos\n",
    "dates = []\n",
    "opens = []\n",
    "highs = []\n",
    "lows = []\n",
    "closes = []\n",
    "adj_closes = []\n",
    "volumes = []\n",
    "\n",
    "# Iterar sobre las filas de la tabla\n",
    "print(\"Extrayendo datos de la tabla...\")\n",
    "for row in table.find_all('tr')[1:]:  # Salta el encabezado\n",
    "    cols = row.find_all('td')\n",
    "    if len(cols) >= 7:  # Asegúrate de que hay al menos 7 columnas\n",
    "        dates.append(cols[0].text)\n",
    "        opens.append(cols[1].text)\n",
    "        highs.append(cols[2].text)\n",
    "        lows.append(cols[3].text)\n",
    "        closes.append(cols[4].text)\n",
    "        adj_closes.append(cols[5].text)\n",
    "        volumes.append(cols[6].text)\n",
    "\n",
    "# Crear un DataFrame de pandas\n",
    "df = pd.DataFrame({\n",
    "    'Date': dates,\n",
    "    'Open': opens,\n",
    "    'High': highs,\n",
    "    'Low': lows,\n",
    "    'Close': closes,\n",
    "    'Adj Close': adj_closes,\n",
    "    'Volume': volumes\n",
    "})\n",
    "\n",
    "# Mostrar el DataFrame\n",
    "print(\"Datos extraídos:\")\n",
    "print(df)"
   ]
  },
  {
   "cell_type": "code",
   "execution_count": 2,
   "metadata": {},
   "outputs": [],
   "source": [
    "df.to_csv('datos_netflix.csv', index=False)"
   ]
  },
  {
   "cell_type": "code",
   "execution_count": 3,
   "metadata": {},
   "outputs": [
    {
     "name": "stdout",
     "output_type": "stream",
     "text": [
      "           Date    Open    High     Low   Close  Adj Close       Volume\n",
      "0  Jun 01, 2021  504.01  536.13  482.14  528.21     528.21   78,560,600\n",
      "1  May 01, 2021  512.65  518.95  478.54  502.81     502.81   66,927,600\n",
      "2  Apr 01, 2021  529.93  563.56  499.00  513.47     513.47  111,573,300\n",
      "3  Mar 01, 2021  545.57  556.99  492.85  521.66     521.66   90,183,900\n",
      "4  Feb 01, 2021  536.79  566.65  518.28  538.85     538.85   61,902,300\n"
     ]
    }
   ],
   "source": [
    "import pandas as pd\n",
    "\n",
    "# Cargar el archivo CSV\n",
    "df_cargado = pd.read_csv('datos_netflix.csv')\n",
    "\n",
    "# Mostrar las primeras filas del DataFrame\n",
    "print(df_cargado.head())"
   ]
  },
  {
   "cell_type": "code",
   "execution_count": 4,
   "metadata": {},
   "outputs": [
    {
     "name": "stdout",
     "output_type": "stream",
     "text": [
      "             Open        High         Low       Close   Adj Close\n",
      "count   70.000000   70.000000   70.000000   70.000000   70.000000\n",
      "mean   280.746000  307.922286  260.706714  286.039571  286.039571\n",
      "std    145.711699  158.539029  136.575328  146.445067  146.445067\n",
      "min     90.410000   97.480000   79.950000   90.030000   90.030000\n",
      "25%    141.610000  146.535000  138.360000  143.550000  143.550000\n",
      "50%    292.345000  330.315000  264.110000  294.550000  294.550000\n",
      "75%    373.875000  393.377500  342.420000  373.232500  373.232500\n",
      "max    545.570000  593.290000  518.280000  540.730000  540.730000\n"
     ]
    }
   ],
   "source": [
    "print(df_cargado.describe())"
   ]
  },
  {
   "cell_type": "code",
   "execution_count": 9,
   "metadata": {},
   "outputs": [
    {
     "name": "stdout",
     "output_type": "stream",
     "text": [
      "Index(['Date', 'Open', 'High', 'Low', 'Close', 'Adj Close', 'Volume'], dtype='object')\n"
     ]
    }
   ],
   "source": [
    "print(df_cargado.columns)"
   ]
  },
  {
   "cell_type": "code",
   "execution_count": 10,
   "metadata": {},
   "outputs": [
    {
     "name": "stdout",
     "output_type": "stream",
     "text": [
      "           Date    Open    High     Low   Close  Adj Close       Volume\n",
      "0  Jun 01, 2021  504.01  536.13  482.14  528.21     528.21   78,560,600\n",
      "1  May 01, 2021  512.65  518.95  478.54  502.81     502.81   66,927,600\n",
      "2  Apr 01, 2021  529.93  563.56  499.00  513.47     513.47  111,573,300\n",
      "3  Mar 01, 2021  545.57  556.99  492.85  521.66     521.66   90,183,900\n",
      "4  Feb 01, 2021  536.79  566.65  518.28  538.85     538.85   61,902,300\n"
     ]
    }
   ],
   "source": [
    "print(df_cargado.head())"
   ]
  },
  {
   "cell_type": "code",
   "execution_count": 11,
   "metadata": {},
   "outputs": [],
   "source": [
    "df_cargado.columns = df_cargado.columns.str.strip()"
   ]
  },
  {
   "cell_type": "code",
   "execution_count": 13,
   "metadata": {},
   "outputs": [
    {
     "name": "stdout",
     "output_type": "stream",
     "text": [
      "Date          object\n",
      "Open         float64\n",
      "High         float64\n",
      "Low          float64\n",
      "Close        float64\n",
      "Adj Close    float64\n",
      "Volume        object\n",
      "dtype: object\n"
     ]
    }
   ],
   "source": [
    "print(df_cargado.dtypes)"
   ]
  },
  {
   "cell_type": "code",
   "execution_count": 15,
   "metadata": {},
   "outputs": [],
   "source": [
    "df_cargado['Close'] = pd.to_numeric(df_cargado['Close'], errors='coerce')"
   ]
  },
  {
   "cell_type": "code",
   "execution_count": 16,
   "metadata": {},
   "outputs": [
    {
     "name": "stdout",
     "output_type": "stream",
     "text": [
      "            Date    Open    High     Low   Close  Adj Close       Volume\n",
      "0   Jun 01, 2021  504.01  536.13  482.14  528.21     528.21   78,560,600\n",
      "1   May 01, 2021  512.65  518.95  478.54  502.81     502.81   66,927,600\n",
      "2   Apr 01, 2021  529.93  563.56  499.00  513.47     513.47  111,573,300\n",
      "3   Mar 01, 2021  545.57  556.99  492.85  521.66     521.66   90,183,900\n",
      "4   Feb 01, 2021  536.79  566.65  518.28  538.85     538.85   61,902,300\n",
      "5   Jan 01, 2021  539.00  593.29  485.67  532.39     532.39  139,988,600\n",
      "6   Dec 01, 2020  492.34  545.50  491.29  540.73     540.73   77,564,100\n",
      "7   Nov 01, 2020  478.87  518.73  463.41  490.70     490.70   91,788,900\n",
      "8   Oct 01, 2020  506.03  572.49  472.21  475.74     475.74  154,302,400\n",
      "9   Sep 01, 2020  532.60  557.39  458.60  500.03     500.03  118,796,900\n",
      "10  Aug 01, 2020  490.86  549.04  466.55  529.56     529.56  116,261,900\n",
      "11  Jul 01, 2020  454.00  575.37  454.00  488.88     488.88  232,206,300\n",
      "12  Jun 01, 2020  418.83  474.01  404.25  455.04     455.04  117,279,900\n",
      "13  May 01, 2020  415.10  458.97  397.86  419.73     419.73  135,055,800\n",
      "14  Apr 01, 2020  376.05  449.52  357.51  419.85     419.85  225,111,600\n",
      "15  Mar 01, 2020  373.11  393.52  290.25  375.50     375.50  201,979,100\n",
      "16  Feb 01, 2020  347.24  392.95  346.28  369.03     369.03  114,056,000\n",
      "17  Jan 01, 2020  326.10  359.85  321.20  345.09     345.09  169,874,000\n",
      "18  Dec 01, 2019  314.39  338.00  292.02  323.57     323.57  124,723,600\n",
      "19  Nov 01, 2019  288.70  316.82  281.14  314.66     314.66  113,645,900\n",
      "23  Jul 01, 2019  373.50  384.76  305.81  322.99     322.99  196,652,500\n",
      "24  Jun 01, 2019  343.56  375.00  332.65  367.32     367.32  111,052,000\n",
      "25  May 01, 2019  374.00  385.99  341.39  343.28     343.28  125,298,300\n",
      "26  Apr 01, 2019  359.00  384.80  342.27  370.54     370.54  165,079,400\n",
      "27  Mar 01, 2019  362.26  379.00  342.47  356.56     356.56  144,843,100\n",
      "28  Feb 01, 2019  337.18  371.49  336.50  358.10     358.10  148,192,100\n",
      "29  Jan 01, 2019  259.28  358.85  256.58  339.50     339.50  306,616,400\n",
      "32  Oct 01, 2018  375.85  386.80  271.21  301.78     301.78  363,589,800\n",
      "33  Sep 01, 2018  366.47  383.20  335.83  374.13     374.13  170,832,100\n",
      "34  Aug 01, 2018  335.87  376.81  310.93  367.68     367.68  213,122,300\n",
      "35  Jul 01, 2018  385.45  419.77  328.00  337.45     337.45  305,393,800\n",
      "36  Jun 01, 2018  353.88  423.21  352.82  391.43     391.43  244,031,800\n",
      "37  May 01, 2018  310.36  356.10  305.73  351.60     351.60  142,050,800\n",
      "38  Apr 01, 2018  291.94  338.82  271.22  312.46     312.46  262,006,000\n"
     ]
    }
   ],
   "source": [
    "datos_filtrados = df_cargado[df_cargado['Close']>300]\n",
    "print(datos_filtrados)"
   ]
  },
  {
   "cell_type": "code",
   "execution_count": 18,
   "metadata": {},
   "outputs": [
    {
     "name": "stdout",
     "output_type": "stream",
     "text": [
      "           Date    Open    High     Low   Close Adj Close       Volume\n",
      "0  Jun 01, 2021  504.01  536.13  482.14  528.21    528.21   78,560,600\n",
      "1  May 01, 2021  512.65  518.95  478.54  502.81    502.81   66,927,600\n",
      "2  Apr 01, 2021  529.93  563.56  499.00  513.47    513.47  111,573,300\n",
      "3  Mar 01, 2021  545.57  556.99  492.85  521.66    521.66   90,183,900\n",
      "4  Feb 01, 2021  536.79  566.65  518.28  538.85    538.85   61,902,300\n"
     ]
    }
   ],
   "source": [
    "import requests\n",
    "from bs4 import BeautifulSoup\n",
    "import pandas as pd\n",
    "\n",
    "# Paso 1: Enviar la solicitud HTTP a la página web\n",
    "url = \"https://cf-courses-data.s3.us.cloud-object-storage.appdomain.cloud/IBMDeveloperSkillsNetwork-PY0220EN-SkillsNetwork/labs/project/netflix_data_webpage.html\"\n",
    "response = requests.get(url)\n",
    "\n",
    "# Paso 2: Parsear el contenido HTML de la página web\n",
    "soup = BeautifulSoup(response.text, 'html.parser')\n",
    "\n",
    "# Paso 3: Encontrar el cuerpo de la tabla\n",
    "table_body = soup.find(\"tbody\")\n",
    "\n",
    "# Paso 4: Inicializar listas para almacenar los datos\n",
    "dates = []\n",
    "opens = []\n",
    "highs = []\n",
    "lows = []\n",
    "closes = []\n",
    "adj_closes = []\n",
    "volumes = []\n",
    "\n",
    "# Paso 5: Recorrer cada fila de la tabla y extraer los valores de las columnas\n",
    "for row in table_body.find_all('tr'):\n",
    "    col = row.find_all(\"td\")\n",
    "    \n",
    "    # Verificar que hay suficientes columnas\n",
    "    if len(col) >= 7:\n",
    "        date = col[0].text.strip()\n",
    "        open_price = col[1].text.strip()\n",
    "        high = col[2].text.strip()\n",
    "        low = col[3].text.strip()\n",
    "        close = col[4].text.strip()\n",
    "        adj_close = col[5].text.strip()\n",
    "        volume = col[6].text.strip()\n",
    "        \n",
    "        # Agregar datos a las listas\n",
    "        dates.append(date)\n",
    "        opens.append(open_price)\n",
    "        highs.append(high)\n",
    "        lows.append(low)\n",
    "        closes.append(close)\n",
    "        adj_closes.append(adj_close)\n",
    "        volumes.append(volume)\n",
    "\n",
    "# Paso 6: Crear un DataFrame de pandas con los datos extraídos\n",
    "netflix_data = pd.DataFrame({\n",
    "    \"Date\": dates,\n",
    "    \"Open\": opens,\n",
    "    \"High\": highs,\n",
    "    \"Low\": lows,\n",
    "    \"Close\": closes,\n",
    "    \"Adj Close\": adj_closes,\n",
    "    \"Volume\": volumes\n",
    "})\n",
    "\n",
    "# Paso 7: Mostrar las primeras filas del DataFrame\n",
    "print(netflix_data.head())\n",
    "\n",
    "# Paso 8: Guardar el DataFrame en un archivo CSV\n",
    "netflix_data.to_csv('datos-netflix.csv', index=False)"
   ]
  },
  {
   "cell_type": "code",
   "execution_count": 19,
   "metadata": {},
   "outputs": [
    {
     "data": {
      "text/html": [
       "<div>\n",
       "<style scoped>\n",
       "    .dataframe tbody tr th:only-of-type {\n",
       "        vertical-align: middle;\n",
       "    }\n",
       "\n",
       "    .dataframe tbody tr th {\n",
       "        vertical-align: top;\n",
       "    }\n",
       "\n",
       "    .dataframe thead th {\n",
       "        text-align: right;\n",
       "    }\n",
       "</style>\n",
       "<table border=\"1\" class=\"dataframe\">\n",
       "  <thead>\n",
       "    <tr style=\"text-align: right;\">\n",
       "      <th></th>\n",
       "      <th>Date</th>\n",
       "      <th>Open</th>\n",
       "      <th>High</th>\n",
       "      <th>Low</th>\n",
       "      <th>Close</th>\n",
       "      <th>Adj Close</th>\n",
       "      <th>Volume</th>\n",
       "    </tr>\n",
       "  </thead>\n",
       "  <tbody>\n",
       "    <tr>\n",
       "      <th>0</th>\n",
       "      <td>Jun 01, 2021</td>\n",
       "      <td>504.01</td>\n",
       "      <td>536.13</td>\n",
       "      <td>482.14</td>\n",
       "      <td>528.21</td>\n",
       "      <td>528.21</td>\n",
       "      <td>78,560,600</td>\n",
       "    </tr>\n",
       "    <tr>\n",
       "      <th>1</th>\n",
       "      <td>May 01, 2021</td>\n",
       "      <td>512.65</td>\n",
       "      <td>518.95</td>\n",
       "      <td>478.54</td>\n",
       "      <td>502.81</td>\n",
       "      <td>502.81</td>\n",
       "      <td>66,927,600</td>\n",
       "    </tr>\n",
       "    <tr>\n",
       "      <th>2</th>\n",
       "      <td>Apr 01, 2021</td>\n",
       "      <td>529.93</td>\n",
       "      <td>563.56</td>\n",
       "      <td>499.00</td>\n",
       "      <td>513.47</td>\n",
       "      <td>513.47</td>\n",
       "      <td>111,573,300</td>\n",
       "    </tr>\n",
       "    <tr>\n",
       "      <th>3</th>\n",
       "      <td>Mar 01, 2021</td>\n",
       "      <td>545.57</td>\n",
       "      <td>556.99</td>\n",
       "      <td>492.85</td>\n",
       "      <td>521.66</td>\n",
       "      <td>521.66</td>\n",
       "      <td>90,183,900</td>\n",
       "    </tr>\n",
       "    <tr>\n",
       "      <th>4</th>\n",
       "      <td>Feb 01, 2021</td>\n",
       "      <td>536.79</td>\n",
       "      <td>566.65</td>\n",
       "      <td>518.28</td>\n",
       "      <td>538.85</td>\n",
       "      <td>538.85</td>\n",
       "      <td>61,902,300</td>\n",
       "    </tr>\n",
       "  </tbody>\n",
       "</table>\n",
       "</div>"
      ],
      "text/plain": [
       "           Date    Open    High     Low   Close Adj Close       Volume\n",
       "0  Jun 01, 2021  504.01  536.13  482.14  528.21    528.21   78,560,600\n",
       "1  May 01, 2021  512.65  518.95  478.54  502.81    502.81   66,927,600\n",
       "2  Apr 01, 2021  529.93  563.56  499.00  513.47    513.47  111,573,300\n",
       "3  Mar 01, 2021  545.57  556.99  492.85  521.66    521.66   90,183,900\n",
       "4  Feb 01, 2021  536.79  566.65  518.28  538.85    538.85   61,902,300"
      ]
     },
     "execution_count": 19,
     "metadata": {},
     "output_type": "execute_result"
    }
   ],
   "source": [
    "netflix_data.head()"
   ]
  },
  {
   "cell_type": "code",
   "execution_count": 20,
   "metadata": {},
   "outputs": [
    {
     "data": {
      "text/html": [
       "<div>\n",
       "<style scoped>\n",
       "    .dataframe tbody tr th:only-of-type {\n",
       "        vertical-align: middle;\n",
       "    }\n",
       "\n",
       "    .dataframe tbody tr th {\n",
       "        vertical-align: top;\n",
       "    }\n",
       "\n",
       "    .dataframe thead th {\n",
       "        text-align: right;\n",
       "    }\n",
       "</style>\n",
       "<table border=\"1\" class=\"dataframe\">\n",
       "  <thead>\n",
       "    <tr style=\"text-align: right;\">\n",
       "      <th></th>\n",
       "      <th>Date</th>\n",
       "      <th>Open</th>\n",
       "      <th>High</th>\n",
       "      <th>Low</th>\n",
       "      <th>Close</th>\n",
       "      <th>Adj Close</th>\n",
       "      <th>Volume</th>\n",
       "    </tr>\n",
       "  </thead>\n",
       "  <tbody>\n",
       "    <tr>\n",
       "      <th>65</th>\n",
       "      <td>Jan 01, 2016</td>\n",
       "      <td>109.00</td>\n",
       "      <td>122.18</td>\n",
       "      <td>90.11</td>\n",
       "      <td>91.84</td>\n",
       "      <td>91.84</td>\n",
       "      <td>488,193,200</td>\n",
       "    </tr>\n",
       "    <tr>\n",
       "      <th>66</th>\n",
       "      <td>Dec 01, 2015</td>\n",
       "      <td>124.47</td>\n",
       "      <td>133.27</td>\n",
       "      <td>113.85</td>\n",
       "      <td>114.38</td>\n",
       "      <td>114.38</td>\n",
       "      <td>319,939,200</td>\n",
       "    </tr>\n",
       "    <tr>\n",
       "      <th>67</th>\n",
       "      <td>Nov 01, 2015</td>\n",
       "      <td>109.20</td>\n",
       "      <td>126.60</td>\n",
       "      <td>101.86</td>\n",
       "      <td>123.33</td>\n",
       "      <td>123.33</td>\n",
       "      <td>320,321,800</td>\n",
       "    </tr>\n",
       "    <tr>\n",
       "      <th>68</th>\n",
       "      <td>Oct 01, 2015</td>\n",
       "      <td>102.91</td>\n",
       "      <td>115.83</td>\n",
       "      <td>96.26</td>\n",
       "      <td>108.38</td>\n",
       "      <td>108.38</td>\n",
       "      <td>446,204,400</td>\n",
       "    </tr>\n",
       "    <tr>\n",
       "      <th>69</th>\n",
       "      <td>Sep 01, 2015</td>\n",
       "      <td>109.35</td>\n",
       "      <td>111.24</td>\n",
       "      <td>93.55</td>\n",
       "      <td>103.26</td>\n",
       "      <td>103.26</td>\n",
       "      <td>497,401,200</td>\n",
       "    </tr>\n",
       "  </tbody>\n",
       "</table>\n",
       "</div>"
      ],
      "text/plain": [
       "            Date    Open    High     Low   Close Adj Close       Volume\n",
       "65  Jan 01, 2016  109.00  122.18   90.11   91.84     91.84  488,193,200\n",
       "66  Dec 01, 2015  124.47  133.27  113.85  114.38    114.38  319,939,200\n",
       "67  Nov 01, 2015  109.20  126.60  101.86  123.33    123.33  320,321,800\n",
       "68  Oct 01, 2015  102.91  115.83   96.26  108.38    108.38  446,204,400\n",
       "69  Sep 01, 2015  109.35  111.24   93.55  103.26    103.26  497,401,200"
      ]
     },
     "execution_count": 20,
     "metadata": {},
     "output_type": "execute_result"
    }
   ],
   "source": [
    "netflix_data.tail()"
   ]
  },
  {
   "cell_type": "code",
   "execution_count": null,
   "metadata": {},
   "outputs": [],
   "source": []
  }
 ],
 "metadata": {
  "kernelspec": {
   "display_name": "Python 3",
   "language": "python",
   "name": "python3"
  },
  "language_info": {
   "codemirror_mode": {
    "name": "ipython",
    "version": 3
   },
   "file_extension": ".py",
   "mimetype": "text/x-python",
   "name": "python",
   "nbconvert_exporter": "python",
   "pygments_lexer": "ipython3",
   "version": "3.12.1"
  }
 },
 "nbformat": 4,
 "nbformat_minor": 2
}
